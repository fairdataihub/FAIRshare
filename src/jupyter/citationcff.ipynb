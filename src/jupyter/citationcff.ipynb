{
 "cells": [
  {
   "cell_type": "code",
   "execution_count": 1,
   "id": "7ef32c1c-5955-4b13-8351-2d036bd0fd57",
   "metadata": {},
   "outputs": [],
   "source": [
    "import yaml"
   ]
  },
  {
   "cell_type": "code",
   "execution_count": 12,
   "id": "43b647d6-a79c-47a7-9b36-9faa3772c94f",
   "metadata": {},
   "outputs": [],
   "source": [
    "dict_file = { 'test1': [\n",
    "{\"t\": \"yy\", \"x\": \"cc\"},\n",
    "{\"t\": \"yx\", \"x\": \"cc\"},\n",
    "]}\n",
    "\n",
    "with open(r'store_file.yaml', 'w') as file:\n",
    "    documents = yaml.dump(dict_file, file)"
   ]
  },
  {
   "cell_type": "code",
   "execution_count": 13,
   "id": "41fd3aa4-98c9-418b-a6de-5c1008056813",
   "metadata": {},
   "outputs": [],
   "source": [
    "def line_prepender(filename, line):\n",
    "    with open(filename, 'r+') as f:\n",
    "        content = f.read()\n",
    "        f.seek(0, 0)\n",
    "        f.write(line.rstrip('\\r\\n') + '\\n' + content)\n",
    "        \n",
    "line_prepender('store_file.yaml', \"\\n\")\n",
    "line_prepender('store_file.yaml', \"# test comment2\")\n",
    "line_prepender('store_file.yaml', \"# test comment1\")"
   ]
  },
  {
   "cell_type": "code",
   "execution_count": null,
   "id": "edb3086b-ad63-461f-960d-de2fb91e6903",
   "metadata": {},
   "outputs": [],
   "source": []
  }
 ],
 "metadata": {
  "kernelspec": {
   "display_name": "Python 3 (ipykernel)",
   "language": "python",
   "name": "python3"
  },
  "language_info": {
   "codemirror_mode": {
    "name": "ipython",
    "version": 3
   },
   "file_extension": ".py",
   "mimetype": "text/x-python",
   "name": "python",
   "nbconvert_exporter": "python",
   "pygments_lexer": "ipython3",
   "version": "3.9.7"
  }
 },
 "nbformat": 4,
 "nbformat_minor": 5
}
