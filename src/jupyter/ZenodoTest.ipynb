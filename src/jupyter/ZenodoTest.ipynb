{
 "cells": [
  {
   "cell_type": "code",
   "execution_count": 31,
   "id": "4a44bfe6-afc9-4696-aa3e-efe9619e6ae2",
   "metadata": {},
   "outputs": [
    {
     "name": "stdout",
     "output_type": "stream",
     "text": [
      "ENVIRONMENT = ZENODO SANDBOX\n"
     ]
    }
   ],
   "source": [
    "import requests\n",
    "import json\n",
    "from dotenv import dotenv_values\n",
    "import os\n",
    "\n",
    "config = dotenv_values(\".env\")  # take environment variables from .env.\n",
    "\n",
    "SERVER_URL = \"https://zenodo.org/api/\"\n",
    "ACCESS_TOKEN = \"iMnF4o01FmZ2Nhd5mYT8oXHKuy7H6tKilg5ndXkKShuK0Y1roEZVUtcxbUi7\"\n",
    "\n",
    "if \"SERVER_URL\" in config:\n",
    "    global SERVER_URL\n",
    "    global ACCESS_TOKEN\n",
    "\n",
    "    SERVER_URL = \"https://sandbox.zenodo.org/api/\"\n",
    "    ACCESS_TOKEN = \"eqHYeMy5KrDtkOOaha46KzQnEEVOjAeyCJD2ThykMNfTnl78YUbHK7360wa0\"\n",
    "    print(\"ENVIRONMENT = ZENODO SANDBOX\")"
   ]
  },
  {
   "cell_type": "code",
   "execution_count": 2,
   "id": "16af34e8-b50e-47eb-8362-54195681c38d",
   "metadata": {},
   "outputs": [],
   "source": [
    "def getAllZenodoDepositions(access_token):\n",
    "    try:\n",
    "        parameters = {'access_token': access_token}\n",
    "        r = requests.get(SERVER_URL + \"/deposit/depositions\", params=parameters)\n",
    "        # print(r.status_code)\n",
    "        # print(r.json())\n",
    "        return r.json()\n",
    "    except Exception as e:\n",
    "        raise e\n",
    "\n",
    "# response = getAllZenodoDepositions(ACCESS_TOKEN)\n",
    "# response"
   ]
  },
  {
   "cell_type": "code",
   "execution_count": 3,
   "id": "ce50d45c-541c-4d0b-9217-21cb3aed7158",
   "metadata": {},
   "outputs": [],
   "source": [
    "def createNewZenodoDeposition(access_token):\n",
    "    try:\n",
    "        headers = {\"Content-Type\": \"application/json\"}\n",
    "        params = {\"access_token\": access_token}\n",
    "        r = requests.post(\n",
    "            SERVER_URL + \"deposit/depositions\", params=params, json={}, headers=headers\n",
    "        )\n",
    "        return r.json()\n",
    "    except Exception as e:\n",
    "        raise e\n",
    "        \n",
    "# zenodoObject = createNewZenodoDeposition(ACCESS_TOKEN)\n",
    "# zenodoObject"
   ]
  },
  {
   "cell_type": "code",
   "execution_count": 4,
   "id": "9b1e3794-5ead-4c09-bcb1-7a834121a942",
   "metadata": {},
   "outputs": [],
   "source": [
    "def uploadFileToZenodoDeposition(bucket_url, file_path, access_token):\n",
    "    try:\n",
    "        if os.path.exists(file_path) and os.path.isfile(file_path):\n",
    "            pass\n",
    "        else:\n",
    "            raise Exception(\"Error: Could not find a file at the path provided.\")\n",
    "\n",
    "        params = {\"access_token\": access_token}\n",
    "        filename = os.path.basename(file_path)\n",
    "\n",
    "        with open(file_path, \"rb\") as fileContent:\n",
    "            r = requests.put(\n",
    "                \"%s/%s\" % (bucket_url, filename),\n",
    "                data=fileContent,\n",
    "                params=params,\n",
    "            )\n",
    "        return r.json()\n",
    "    except Exception as e:\n",
    "        raise e\n",
    "        \n",
    "# response = uploadFileToZenodoDeposition(zenodoObject['links']['bucket'], 'C:\\\\Users\\\\dev\\\\Desktop\\\\SODA-for-COVID-19-Research\\\\tailwind.config.js', ACCESS_TOKEN)\n",
    "# response"
   ]
  },
  {
   "cell_type": "code",
   "execution_count": 5,
   "id": "d5967433-9a7e-4bfa-a675-37c0dd5ac403",
   "metadata": {},
   "outputs": [],
   "source": [
    "def addMetadataToZenodoDeposition(deposition_id, metadata, access_token):\n",
    "    try:\n",
    "        headers = {\"Content-Type\": \"application/json\"}\n",
    "        params = {\"access_token\": access_token}\n",
    "        r = requests.put(\n",
    "            SERVER_URL + \"deposit/depositions/%s\" % deposition_id,\n",
    "            params=params,\n",
    "            data=json.dumps(metadata),\n",
    "            headers=headers,\n",
    "        )\n",
    "        return r.json()\n",
    "    except Exception as e:\n",
    "        raise e\n",
    "        \n",
    "data = {\n",
    "    'metadata': {\n",
    "        'title': 'My first upload',\n",
    "        'description': 'This is my first upload',\n",
    "        'creators': [\n",
    "            {\n",
    "                'name': 'Doe, John',\n",
    "                'affiliation': 'Zenodo'\n",
    "            }\n",
    "        ]\n",
    "    }\n",
    "}\n",
    "        \n",
    "# response = addMetadataToZenodoDeposition(zenodoObject['id'], data, ACCESS_TOKEN)\n",
    "# response"
   ]
  },
  {
   "cell_type": "code",
   "execution_count": 6,
   "id": "de95a959-e6c8-4696-a97b-d98bafc4d476",
   "metadata": {},
   "outputs": [
    {
     "name": "stdout",
     "output_type": "stream",
     "text": [
      "https://sandbox.zenodo.org/api/files/6ea4346e-bc86-4cc4-90b2-fa30d9b808d2/main.js\n"
     ]
    }
   ],
   "source": [
    "bucket_url = \"https://sandbox.zenodo.org/api/files/6ea4346e-bc86-4cc4-90b2-fa30d9b808d2\"\n",
    "# bucket_url = r.json()[\"links\"][\"bucket\"]\n",
    "deposition_id = \"935416\"\n",
    "# deposition_id = r.json()['id']\n",
    "filename = \"main.js\"\n",
    "print(\"%s/%s\" % (bucket_url, filename))"
   ]
  },
  {
   "cell_type": "code",
   "execution_count": 7,
   "id": "399dd484-81d7-4186-9444-7f9a564baa8b",
   "metadata": {},
   "outputs": [],
   "source": [
    "# bucket_url = r.json()[\"links\"][\"bucket\"]\n",
    "\n",
    "# New API\n",
    "filename = \"main.js\"\n",
    "path = filename\n",
    "\n",
    "# The target URL is a combination of the bucket link with the desired filename\n",
    "# separated by a slash.\n",
    "\n",
    "# with open(path, \"rb\") as fp:\n",
    "#     r = requests.put(\n",
    "#         \"%s/%s\" % (bucket_url, filename),\n",
    "#         data=fp,\n",
    "#         params=params,\n",
    "#     )\n",
    "# r.json()"
   ]
  },
  {
   "cell_type": "code",
   "execution_count": 8,
   "id": "0c4db8dd-ec6c-4f98-be84-30829deb31e7",
   "metadata": {},
   "outputs": [],
   "source": [
    "data = {\n",
    "    'metadata': {\n",
    "        'title': 'My first upload',\n",
    "        'upload_type': 'poster',\n",
    "        'description': 'This is my first upload',\n",
    "        'creators': [\n",
    "            {\n",
    "                'name': 'Doe, John',\n",
    "                'affiliation': 'Zenodo'\n",
    "            }\n",
    "        ]\n",
    "    }\n",
    "}\n",
    "# r = requests.put(\n",
    "#     SERVER_URL + ('deposit/depositions/%s' % deposition_id),\n",
    "#     params={'access_token': ACCESS_TOKEN}, \n",
    "#     data=json.dumps(data),headers=headers)\n",
    "\n",
    "# r.status_code"
   ]
  },
  {
   "cell_type": "code",
   "execution_count": 13,
   "id": "338de633-8afa-4aba-8afa-6a1b78c0d2cb",
   "metadata": {},
   "outputs": [
    {
     "name": "stdout",
     "output_type": "stream",
     "text": [
      "isdir C:\\Users\\dev\\Desktop\\.ipynb_checkpoints\n",
      "isdir C:\\Users\\dev\\Desktop\\dataset\n",
      "isdir C:\\Users\\dev\\Desktop\\electron\n",
      "isdir C:\\Users\\dev\\Desktop\\electron-python\n",
      "isdir C:\\Users\\dev\\Desktop\\electron-vue3-flask\n",
      "isdir C:\\Users\\dev\\Desktop\\element-plus\n",
      "isdir C:\\Users\\dev\\Desktop\\fairdataihub-website\n",
      "isdir C:\\Users\\dev\\Desktop\\framework\n",
      "isdir C:\\Users\\dev\\Desktop\\linux\n",
      "isdir C:\\Users\\dev\\Desktop\\SODA-for-COVID-19-Research\n",
      "isdir C:\\Users\\dev\\Desktop\\SODA-for-SPARC\n",
      "isdir C:\\Users\\dev\\Desktop\\SPARClink\n",
      "isdir C:\\Users\\dev\\Desktop\\test-electron\n",
      "isdir C:\\Users\\dev\\Desktop\\vue3-marquee\n",
      "isdir C:\\Users\\dev\\Desktop\\zenodo\n"
     ]
    }
   ],
   "source": [
    "folder_path = \"C:\\\\Users\\\\dev\\\\Desktop\"\n",
    "subitems = os.listdir(folder_path)\n",
    "\n",
    "for item in subitems:\n",
    "    subitem = os.path.join(folder_path, item)\n",
    "    if os.path.isdir(subitem):\n",
    "        print(\"isdir\", subitem)\n",
    "\n",
    "        "
   ]
  },
  {
   "cell_type": "code",
   "execution_count": 19,
   "id": "52e3b57c-6d52-4b03-a9a1-7cc4235fa08b",
   "metadata": {},
   "outputs": [
    {
     "data": {
      "text/plain": [
       "'C:\\\\Users\\\\dev\\\\.sodaforcovid19research\\\\dataset\\\\dataset.zip'"
      ]
     },
     "execution_count": 19,
     "metadata": {},
     "output_type": "execute_result"
    }
   ],
   "source": [
    "import shutil\n",
    "\n",
    "def zipFolder(\n",
    "    folder_path,\n",
    "):\n",
    "    try:\n",
    "        home_path = os.path.expanduser(\"~\")\n",
    "        soda_folder_path = os.path.join(home_path, \".sodaforcovid19research\", \"dataset\")\n",
    "\n",
    "        if not os.path.exists(soda_folder_path):\n",
    "            os.makedirs(soda_folder_path)\n",
    "\n",
    "        zip_path = os.path.join(soda_folder_path, \"dataset\")\n",
    "\n",
    "        if os.path.exists(zip_path + \".zip\"):\n",
    "            os.remove(zip_path + \".zip\")\n",
    "\n",
    "        zipped_path = shutil.make_archive(zip_path, \"zip\", folder_path)\n",
    "\n",
    "        return zipped_path\n",
    "    except Exception as e:\n",
    "        raise e\n",
    "\n",
    "response = zipFolder(\"C:\\\\Users\\\\dev\\\\Desktop\\\\framework\\\\test\")\n",
    "response"
   ]
  },
  {
   "cell_type": "code",
   "execution_count": 25,
   "id": "5a3ab3c5-c8e9-492c-834b-1bf9037806f9",
   "metadata": {},
   "outputs": [],
   "source": [
    "import uuid\n",
    "\n",
    "fp = \"C:\\\\Users\\\\dev\\Desktop\\\\temp\\\\\"\n",
    "\n",
    "def generateFiles(n, folder_path):\n",
    "    for x in range(n):\n",
    "        filename = str(uuid.uuid4()) + \".soda\"\n",
    "        f = open(fp + filename , \"a\")\n",
    "        f.write(filename)\n",
    "        f.close()\n",
    "    \n",
    "generateFiles(10, fp)"
   ]
  },
  {
   "cell_type": "code",
   "execution_count": 29,
   "id": "848d1e41-69fa-4b0f-8169-54efe3ee9103",
   "metadata": {},
   "outputs": [
    {
     "ename": "TypeError",
     "evalue": "request() got an unexpected keyword argument 'reportProgress'",
     "output_type": "error",
     "traceback": [
      "\u001b[1;31m---------------------------------------------------------------------------\u001b[0m",
      "\u001b[1;31mTypeError\u001b[0m                                 Traceback (most recent call last)",
      "\u001b[1;32m~\\AppData\\Local\\Temp/ipykernel_14352/3805535992.py\u001b[0m in \u001b[0;36m<module>\u001b[1;34m\u001b[0m\n\u001b[0;32m     21\u001b[0m         \u001b[1;32mraise\u001b[0m \u001b[0me\u001b[0m\u001b[1;33m\u001b[0m\u001b[1;33m\u001b[0m\u001b[0m\n\u001b[0;32m     22\u001b[0m \u001b[1;33m\u001b[0m\u001b[0m\n\u001b[1;32m---> 23\u001b[1;33m \u001b[0muploadFileToZenodoDeposition\u001b[0m\u001b[1;33m(\u001b[0m\u001b[0mACCESS_TOKEN\u001b[0m\u001b[1;33m,\u001b[0m \u001b[1;34m\"https://sandbox.zenodo.org/api/files/d2702a21-d938-4e4f-b192-d12a674f43bf\"\u001b[0m\u001b[1;33m,\u001b[0m \u001b[1;34m\"C:\\\\Users\\\\dev\\\\Downloads\\\\SODA-for-SPARC-Setup-5.0.0.exe\"\u001b[0m\u001b[1;33m)\u001b[0m\u001b[1;33m\u001b[0m\u001b[1;33m\u001b[0m\u001b[0m\n\u001b[0m",
      "\u001b[1;32m~\\AppData\\Local\\Temp/ipykernel_14352/3805535992.py\u001b[0m in \u001b[0;36muploadFileToZenodoDeposition\u001b[1;34m(access_token, bucket_url, file_path)\u001b[0m\n\u001b[0;32m     19\u001b[0m         \u001b[1;32mreturn\u001b[0m \u001b[0mr\u001b[0m\u001b[1;33m.\u001b[0m\u001b[0mjson\u001b[0m\u001b[1;33m(\u001b[0m\u001b[1;33m)\u001b[0m\u001b[1;33m\u001b[0m\u001b[1;33m\u001b[0m\u001b[0m\n\u001b[0;32m     20\u001b[0m     \u001b[1;32mexcept\u001b[0m \u001b[0mException\u001b[0m \u001b[1;32mas\u001b[0m \u001b[0me\u001b[0m\u001b[1;33m:\u001b[0m\u001b[1;33m\u001b[0m\u001b[1;33m\u001b[0m\u001b[0m\n\u001b[1;32m---> 21\u001b[1;33m         \u001b[1;32mraise\u001b[0m \u001b[0me\u001b[0m\u001b[1;33m\u001b[0m\u001b[1;33m\u001b[0m\u001b[0m\n\u001b[0m\u001b[0;32m     22\u001b[0m \u001b[1;33m\u001b[0m\u001b[0m\n\u001b[0;32m     23\u001b[0m \u001b[0muploadFileToZenodoDeposition\u001b[0m\u001b[1;33m(\u001b[0m\u001b[0mACCESS_TOKEN\u001b[0m\u001b[1;33m,\u001b[0m \u001b[1;34m\"https://sandbox.zenodo.org/api/files/d2702a21-d938-4e4f-b192-d12a674f43bf\"\u001b[0m\u001b[1;33m,\u001b[0m \u001b[1;34m\"C:\\\\Users\\\\dev\\\\Downloads\\\\SODA-for-SPARC-Setup-5.0.0.exe\"\u001b[0m\u001b[1;33m)\u001b[0m\u001b[1;33m\u001b[0m\u001b[1;33m\u001b[0m\u001b[0m\n",
      "\u001b[1;32m~\\AppData\\Local\\Temp/ipykernel_14352/3805535992.py\u001b[0m in \u001b[0;36muploadFileToZenodoDeposition\u001b[1;34m(access_token, bucket_url, file_path)\u001b[0m\n\u001b[0;32m     10\u001b[0m \u001b[1;33m\u001b[0m\u001b[0m\n\u001b[0;32m     11\u001b[0m         \u001b[1;32mwith\u001b[0m \u001b[0mopen\u001b[0m\u001b[1;33m(\u001b[0m\u001b[0mfile_path\u001b[0m\u001b[1;33m,\u001b[0m \u001b[1;34m\"rb\"\u001b[0m\u001b[1;33m)\u001b[0m \u001b[1;32mas\u001b[0m \u001b[0mfileContent\u001b[0m\u001b[1;33m:\u001b[0m\u001b[1;33m\u001b[0m\u001b[1;33m\u001b[0m\u001b[0m\n\u001b[1;32m---> 12\u001b[1;33m             r = requests.put(\n\u001b[0m\u001b[0;32m     13\u001b[0m                 \u001b[1;34m\"%s/%s\"\u001b[0m \u001b[1;33m%\u001b[0m \u001b[1;33m(\u001b[0m\u001b[0mbucket_url\u001b[0m\u001b[1;33m,\u001b[0m \u001b[0mfilename\u001b[0m\u001b[1;33m)\u001b[0m\u001b[1;33m,\u001b[0m\u001b[1;33m\u001b[0m\u001b[1;33m\u001b[0m\u001b[0m\n\u001b[0;32m     14\u001b[0m                 \u001b[0mdata\u001b[0m\u001b[1;33m=\u001b[0m\u001b[0mfileContent\u001b[0m\u001b[1;33m,\u001b[0m\u001b[1;33m\u001b[0m\u001b[1;33m\u001b[0m\u001b[0m\n",
      "\u001b[1;32m~\\anaconda3\\envs\\sodacovid-dev\\lib\\site-packages\\requests\\api.py\u001b[0m in \u001b[0;36mput\u001b[1;34m(url, data, **kwargs)\u001b[0m\n\u001b[0;32m    130\u001b[0m     \"\"\"\n\u001b[0;32m    131\u001b[0m \u001b[1;33m\u001b[0m\u001b[0m\n\u001b[1;32m--> 132\u001b[1;33m     \u001b[1;32mreturn\u001b[0m \u001b[0mrequest\u001b[0m\u001b[1;33m(\u001b[0m\u001b[1;34m'put'\u001b[0m\u001b[1;33m,\u001b[0m \u001b[0murl\u001b[0m\u001b[1;33m,\u001b[0m \u001b[0mdata\u001b[0m\u001b[1;33m=\u001b[0m\u001b[0mdata\u001b[0m\u001b[1;33m,\u001b[0m \u001b[1;33m**\u001b[0m\u001b[0mkwargs\u001b[0m\u001b[1;33m)\u001b[0m\u001b[1;33m\u001b[0m\u001b[1;33m\u001b[0m\u001b[0m\n\u001b[0m\u001b[0;32m    133\u001b[0m \u001b[1;33m\u001b[0m\u001b[0m\n\u001b[0;32m    134\u001b[0m \u001b[1;33m\u001b[0m\u001b[0m\n",
      "\u001b[1;32m~\\anaconda3\\envs\\sodacovid-dev\\lib\\site-packages\\requests\\api.py\u001b[0m in \u001b[0;36mrequest\u001b[1;34m(method, url, **kwargs)\u001b[0m\n\u001b[0;32m     59\u001b[0m     \u001b[1;31m# cases, and look like a memory leak in others.\u001b[0m\u001b[1;33m\u001b[0m\u001b[1;33m\u001b[0m\u001b[1;33m\u001b[0m\u001b[0m\n\u001b[0;32m     60\u001b[0m     \u001b[1;32mwith\u001b[0m \u001b[0msessions\u001b[0m\u001b[1;33m.\u001b[0m\u001b[0mSession\u001b[0m\u001b[1;33m(\u001b[0m\u001b[1;33m)\u001b[0m \u001b[1;32mas\u001b[0m \u001b[0msession\u001b[0m\u001b[1;33m:\u001b[0m\u001b[1;33m\u001b[0m\u001b[1;33m\u001b[0m\u001b[0m\n\u001b[1;32m---> 61\u001b[1;33m         \u001b[1;32mreturn\u001b[0m \u001b[0msession\u001b[0m\u001b[1;33m.\u001b[0m\u001b[0mrequest\u001b[0m\u001b[1;33m(\u001b[0m\u001b[0mmethod\u001b[0m\u001b[1;33m=\u001b[0m\u001b[0mmethod\u001b[0m\u001b[1;33m,\u001b[0m \u001b[0murl\u001b[0m\u001b[1;33m=\u001b[0m\u001b[0murl\u001b[0m\u001b[1;33m,\u001b[0m \u001b[1;33m**\u001b[0m\u001b[0mkwargs\u001b[0m\u001b[1;33m)\u001b[0m\u001b[1;33m\u001b[0m\u001b[1;33m\u001b[0m\u001b[0m\n\u001b[0m\u001b[0;32m     62\u001b[0m \u001b[1;33m\u001b[0m\u001b[0m\n\u001b[0;32m     63\u001b[0m \u001b[1;33m\u001b[0m\u001b[0m\n",
      "\u001b[1;31mTypeError\u001b[0m: request() got an unexpected keyword argument 'reportProgress'"
     ]
    }
   ],
   "source": [
    "def uploadFileToZenodoDeposition(access_token, bucket_url, file_path):\n",
    "    try:\n",
    "        if os.path.exists(file_path) and os.path.isfile(file_path):\n",
    "            pass\n",
    "        else:\n",
    "            raise Exception(\"Error: Could not find a file at the path provided.\")\n",
    "\n",
    "        params = {\"access_token\": access_token}\n",
    "        filename = os.path.basename(file_path)\n",
    "\n",
    "        with open(file_path, \"rb\") as fileContent:\n",
    "            r = requests.put(\n",
    "                \"%s/%s\" % (bucket_url, filename),\n",
    "                data=fileContent,\n",
    "                params=params, \n",
    "                reportProgress=True\n",
    "            )\n",
    "\n",
    "        return r.json()\n",
    "    except Exception as e:\n",
    "        raise e\n",
    "        \n",
    "uploadFileToZenodoDeposition(ACCESS_TOKEN, \"https://sandbox.zenodo.org/api/files/d2702a21-d938-4e4f-b192-d12a674f43bf\", \"C:\\\\Users\\\\dev\\\\Downloads\\\\SODA-for-SPARC-Setup-5.0.0.exe\")"
   ]
  },
  {
   "cell_type": "code",
   "execution_count": 33,
   "id": "689cd944-936c-4cc1-b233-05bccd606bc3",
   "metadata": {},
   "outputs": [
    {
     "name": "stdout",
     "output_type": "stream",
     "text": [
      "{'conceptdoi': '10.5072/zenodo.959611', 'conceptrecid': '959611', 'created': '2021-11-13T00:29:59.668968+00:00', 'doi': '10.5072/zenodo.959612', 'doi_url': 'https://doi.org/10.5072/zenodo.959612', 'files': [{'checksum': '398379a98e1386e995086acbb61c9b3c', 'filename': '01d3328c-582d-41ff-a8d3-cf563ec2b97a.soda', 'filesize': 41, 'id': '6c85478b-e2e9-4d01-a113-75e71b7471b7', 'links': {'download': 'https://sandbox.zenodo.org/api/files/51ede19f-217c-4b58-a346-be8a96f96c4f/01d3328c-582d-41ff-a8d3-cf563ec2b97a.soda', 'self': 'https://sandbox.zenodo.org/api/deposit/depositions/959612/files/6c85478b-e2e9-4d01-a113-75e71b7471b7'}}, {'checksum': '8cd76b32a95dfa0ebab92241dad32d1e', 'filename': '5652ff7f-bee7-488f-a185-437fc76838ca.soda', 'filesize': 41, 'id': '7da25cc6-c19d-4154-9a44-21f57163c2fb', 'links': {'download': 'https://sandbox.zenodo.org/api/files/51ede19f-217c-4b58-a346-be8a96f96c4f/5652ff7f-bee7-488f-a185-437fc76838ca.soda', 'self': 'https://sandbox.zenodo.org/api/deposit/depositions/959612/files/7da25cc6-c19d-4154-9a44-21f57163c2fb'}}, {'checksum': 'e9afdaef0fbf915effdbdb2274400dbb', 'filename': '5c872305-1f6e-4f7f-9c65-f6c15a43c735.soda', 'filesize': 41, 'id': '834cbc3d-6dae-4b3b-8cb3-cceff3d5da1d', 'links': {'download': 'https://sandbox.zenodo.org/api/files/51ede19f-217c-4b58-a346-be8a96f96c4f/5c872305-1f6e-4f7f-9c65-f6c15a43c735.soda', 'self': 'https://sandbox.zenodo.org/api/deposit/depositions/959612/files/834cbc3d-6dae-4b3b-8cb3-cceff3d5da1d'}}, {'checksum': '98cef9d238a499035004207799b788cc', 'filename': '6a275056-8716-463d-ba43-ef1ed2106dfc.soda', 'filesize': 41, 'id': 'f865f1f6-2a33-4fbf-a210-a47a152c5470', 'links': {'download': 'https://sandbox.zenodo.org/api/files/51ede19f-217c-4b58-a346-be8a96f96c4f/6a275056-8716-463d-ba43-ef1ed2106dfc.soda', 'self': 'https://sandbox.zenodo.org/api/deposit/depositions/959612/files/f865f1f6-2a33-4fbf-a210-a47a152c5470'}}, {'checksum': 'b6adfb4c9fa9e9dff28480a9542ea6a8', 'filename': '6a75aeaf-1cd9-4f3b-a96d-d586037208ae.soda', 'filesize': 41, 'id': '050704af-b0b5-4de4-b5d8-6e3d5181e375', 'links': {'download': 'https://sandbox.zenodo.org/api/files/51ede19f-217c-4b58-a346-be8a96f96c4f/6a75aeaf-1cd9-4f3b-a96d-d586037208ae.soda', 'self': 'https://sandbox.zenodo.org/api/deposit/depositions/959612/files/050704af-b0b5-4de4-b5d8-6e3d5181e375'}}, {'checksum': '6d3f9d9ea8ecda21e45b46ffc121e0eb', 'filename': '7dd830af-1373-44c1-b36c-e26fcc35e4bf.soda', 'filesize': 41, 'id': '49081077-02e7-49b9-8bf8-7ea24c21437d', 'links': {'download': 'https://sandbox.zenodo.org/api/files/51ede19f-217c-4b58-a346-be8a96f96c4f/7dd830af-1373-44c1-b36c-e26fcc35e4bf.soda', 'self': 'https://sandbox.zenodo.org/api/deposit/depositions/959612/files/49081077-02e7-49b9-8bf8-7ea24c21437d'}}, {'checksum': 'cf90876f050bfe0cb86cb9f76aa92aef', 'filename': 'b39cf249-a665-4a40-8e6b-d2e66b061419.soda', 'filesize': 41, 'id': 'c40296b9-a67a-496d-abdb-8e749c3eebc9', 'links': {'download': 'https://sandbox.zenodo.org/api/files/51ede19f-217c-4b58-a346-be8a96f96c4f/b39cf249-a665-4a40-8e6b-d2e66b061419.soda', 'self': 'https://sandbox.zenodo.org/api/deposit/depositions/959612/files/c40296b9-a67a-496d-abdb-8e749c3eebc9'}}, {'checksum': 'cb7bd7d30684bb6cd0da22145f2a0731', 'filename': 'b4014d86-ad08-469b-9e08-899f61ee6cf7.soda', 'filesize': 41, 'id': 'bcb2c961-8359-4f17-992a-787c4780169f', 'links': {'download': 'https://sandbox.zenodo.org/api/files/51ede19f-217c-4b58-a346-be8a96f96c4f/b4014d86-ad08-469b-9e08-899f61ee6cf7.soda', 'self': 'https://sandbox.zenodo.org/api/deposit/depositions/959612/files/bcb2c961-8359-4f17-992a-787c4780169f'}}, {'checksum': 'fd70d2b435c825e5af996125eef9906a', 'filename': 'c06ff928-315b-433d-b2a4-117e203b5c68.soda', 'filesize': 41, 'id': 'df035c76-c03a-415c-8ff3-717469eb426c', 'links': {'download': 'https://sandbox.zenodo.org/api/files/51ede19f-217c-4b58-a346-be8a96f96c4f/c06ff928-315b-433d-b2a4-117e203b5c68.soda', 'self': 'https://sandbox.zenodo.org/api/deposit/depositions/959612/files/df035c76-c03a-415c-8ff3-717469eb426c'}}, {'checksum': 'bd78d99332a8d7f6125b0ac3fe5b2e3d', 'filename': 'cfe64dbb-9621-4009-8176-bd53c8fadd17.soda', 'filesize': 41, 'id': 'bc62430e-4edf-4873-ab5a-ee2c18a74b9d', 'links': {'download': 'https://sandbox.zenodo.org/api/files/51ede19f-217c-4b58-a346-be8a96f96c4f/cfe64dbb-9621-4009-8176-bd53c8fadd17.soda', 'self': 'https://sandbox.zenodo.org/api/deposit/depositions/959612/files/bc62430e-4edf-4873-ab5a-ee2c18a74b9d'}}], 'id': 959612, 'links': {'badge': 'https://sandbox.zenodo.org/badge/doi/10.5072/zenodo.959612.svg', 'bucket': 'https://sandbox.zenodo.org/api/files/51ede19f-217c-4b58-a346-be8a96f96c4f', 'conceptbadge': 'https://sandbox.zenodo.org/badge/doi/10.5072/zenodo.959611.svg', 'conceptdoi': 'https://doi.org/10.5072/zenodo.959611', 'doi': 'https://doi.org/10.5072/zenodo.959612', 'latest': 'https://sandbox.zenodo.org/api/records/959612', 'latest_html': 'https://sandbox.zenodo.org/record/959612', 'record': 'https://sandbox.zenodo.org/api/records/959612', 'record_html': 'https://sandbox.zenodo.org/record/959612'}, 'metadata': {'access_right': 'open', 'communities': [{'identifier': 'zenodo'}], 'conference_acronym': 'GSW', 'conference_dates': 'November 11, 2021 - November 13, 2021', 'conference_place': 'Chicago, IL, United States', 'conference_session': 'VI', 'conference_session_part': '1', 'conference_title': 'Gun violence: An event on the power of community', 'contributors': [{'affiliation': 'test10a', 'name': 'test10f, test10g', 'orcid': '0000-0003-2524-3853', 'type': 'Editor'}], 'creators': [{'affiliation': 'test8a', 'name': 'test8f, test8g', 'orcid': '0000-0003-2524-3853'}, {'affiliation': 'test9a', 'name': 'test9f, test9g', 'orcid': '0000-0003-2524-3853'}], 'description': 'test2', 'doi': '10.5072/zenodo.959612', 'imprint_isbn': '978-3-16-148410-0', 'imprint_place': 'Chicago, IL, United States', 'imprint_publisher': 'Penguin', 'journal_issue': '3', 'journal_pages': '44–47', 'journal_title': 'Journal of College Admission', 'journal_volume': '13', 'keywords': ['test 3', 'test3.5', 'test4'], 'language': 'eng', 'license': 'GPL-2.0-with-GCC-exception', 'notes': 'Lorem ipsum dolor sit amet, consectetur adipisicing elit. Blanditiisitaquequo dpraesentium explicaboincidunt? Dolores beatae nam at sed dolorum ratione dolorem nisi velit.', 'partof_pages': '224', 'partof_title': 'Gesammelte Werke 3', 'prereserve_doi': {'doi': '10.5072/zenodo.959612', 'recid': 959612}, 'publication_date': '2021-11-12', 'references': ['Grady, J. S., Her, M., Moreno, G., Perez, C., & Yelinek, J. (2019). Emotions in storybooks: A comparison of storybooks that represent ethnic and racial groups in the United States. Psychology of Popular Media Culture, 8(3), 207–217. https://doi.org/10.1037/ppm0000185', 'Jerrentrup, A., Mueller, T., Glowalla, U., Herder, M., Henrichs, N., Neubauer, A., & Schaefer, J. R. (2018). Teaching medicine with the help of \"Dr. House.\" PLoS ONE, 13(3), Article e0193972. https://doi.org/10.1371/journal.pone.0193972', 'Stegmeir, M. (2016). Climate change: New discipline practices promote college access. The Journal of College Admission, (231), 44–47. https://www.nxtbook.com/ygsreprints/NACAC/nacac_jca_spring2016/#/46'], 'related_identifiers': [{'identifier': '10.1234/foo', 'relation': 'isPublishedIn', 'resource_type': 'publication-article', 'scheme': 'doi'}, {'identifier': '10.1234/bar', 'relation': 'compiles', 'resource_type': 'publication-proposal', 'scheme': 'doi'}], 'subjects': [{'identifier': 'http://id.loc.gov/authorities/subjects/sh85009003', 'scheme': 'url', 'term': 'sub1'}], 'thesis_supervisors': [{'affiliation': 'UCSD', 'name': 'test, ffet', 'orcid': '0000-0003-2524-3853'}], 'thesis_university': 'University of California San Diego', 'title': 'test1', 'upload_type': 'software', 'version': '1.0.4'}, 'modified': '2021-11-13T01:52:01.781055+00:00', 'owner': 96093, 'record_id': 959612, 'state': 'done', 'submitted': True, 'title': 'test1'}\n"
     ]
    }
   ],
   "source": [
    "deposition_id = 959612\n",
    "r = requests.post('https://sandbox.zenodo.org/api/deposit/depositions/%s/actions/publish' % deposition_id,\n",
    "                      params={'access_token': ACCESS_TOKEN} )\n",
    "\n",
    "print(r.json())"
   ]
  },
  {
   "cell_type": "code",
   "execution_count": null,
   "id": "5f75eab5-cec4-4ba0-a97e-27edef4c4e0b",
   "metadata": {},
   "outputs": [],
   "source": []
  }
 ],
 "metadata": {
  "kernelspec": {
   "display_name": "Python 3 (ipykernel)",
   "language": "python",
   "name": "python3"
  },
  "language_info": {
   "codemirror_mode": {
    "name": "ipython",
    "version": 3
   },
   "file_extension": ".py",
   "mimetype": "text/x-python",
   "name": "python",
   "nbconvert_exporter": "python",
   "pygments_lexer": "ipython3",
   "version": "3.9.0"
  }
 },
 "nbformat": 4,
 "nbformat_minor": 5
}
