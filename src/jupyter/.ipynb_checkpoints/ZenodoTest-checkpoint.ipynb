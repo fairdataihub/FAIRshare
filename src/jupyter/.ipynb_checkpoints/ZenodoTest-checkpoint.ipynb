{
 "cells": [
  {
   "cell_type": "code",
   "execution_count": 1,
   "id": "4a44bfe6-afc9-4696-aa3e-efe9619e6ae2",
   "metadata": {},
   "outputs": [
    {
     "name": "stdout",
     "output_type": "stream",
     "text": [
      "ENVIRONMENT = ZENODO SANDBOX\n"
     ]
    }
   ],
   "source": [
    "import requests\n",
    "import json\n",
    "from dotenv import dotenv_values\n",
    "import os\n",
    "\n",
    "config = dotenv_values(\".env\")  # take environment variables from .env.\n",
    "\n",
    "SERVER_URL = \"https://zenodo.org/api/\"\n",
    "ACCESS_TOKEN = \"iMnF4o01FmZ2Nhd5mYT8oXHKuy7H6tKilg5ndXkKShuK0Y1roEZVUtcxbUi7\"\n",
    "\n",
    "if \"SERVER_URL\" in config:\n",
    "    global SERVER_URL\n",
    "    global ACCESS_TOKEN\n",
    "\n",
    "    SERVER_URL = \"https://sandbox.zenodo.org/api/\"\n",
    "    ACCESS_TOKEN = \"eqHYeMy5KrDtkOOaha46KzQnEEVOjAeyCJD2ThykMNfTnl78YUbHK7360wa0\"\n",
    "    print(\"ENVIRONMENT = ZENODO SANDBOX\")"
   ]
  },
  {
   "cell_type": "code",
   "execution_count": 2,
   "id": "16af34e8-b50e-47eb-8362-54195681c38d",
   "metadata": {},
   "outputs": [],
   "source": [
    "def getAllZenodoDepositions(access_token):\n",
    "    try:\n",
    "        parameters = {'access_token': access_token}\n",
    "        r = requests.get(SERVER_URL + \"/deposit/depositions\", params=parameters)\n",
    "        # print(r.status_code)\n",
    "        # print(r.json())\n",
    "        return r.json()\n",
    "    except Exception as e:\n",
    "        raise e\n",
    "\n",
    "# response = getAllZenodoDepositions(ACCESS_TOKEN)\n",
    "# response"
   ]
  },
  {
   "cell_type": "code",
   "execution_count": 3,
   "id": "ce50d45c-541c-4d0b-9217-21cb3aed7158",
   "metadata": {},
   "outputs": [],
   "source": [
    "def createNewZenodoDeposition(access_token):\n",
    "    try:\n",
    "        headers = {\"Content-Type\": \"application/json\"}\n",
    "        params = {\"access_token\": access_token}\n",
    "        r = requests.post(\n",
    "            SERVER_URL + \"deposit/depositions\", params=params, json={}, headers=headers\n",
    "        )\n",
    "        return r.json()\n",
    "    except Exception as e:\n",
    "        raise e\n",
    "        \n",
    "# zenodoObject = createNewZenodoDeposition(ACCESS_TOKEN)\n",
    "# zenodoObject"
   ]
  },
  {
   "cell_type": "code",
   "execution_count": 4,
   "id": "9b1e3794-5ead-4c09-bcb1-7a834121a942",
   "metadata": {},
   "outputs": [],
   "source": [
    "def uploadFileToZenodoDeposition(bucket_url, file_path, access_token):\n",
    "    try:\n",
    "        if os.path.exists(file_path) and os.path.isfile(file_path):\n",
    "            pass\n",
    "        else:\n",
    "            raise Exception(\"Error: Could not find a file at the path provided.\")\n",
    "\n",
    "        params = {\"access_token\": access_token}\n",
    "        filename = os.path.basename(file_path)\n",
    "\n",
    "        with open(file_path, \"rb\") as fileContent:\n",
    "            r = requests.put(\n",
    "                \"%s/%s\" % (bucket_url, filename),\n",
    "                data=fileContent,\n",
    "                params=params,\n",
    "            )\n",
    "        return r.json()\n",
    "    except Exception as e:\n",
    "        raise e\n",
    "        \n",
    "# response = uploadFileToZenodoDeposition(zenodoObject['links']['bucket'], 'C:\\\\Users\\\\dev\\\\Desktop\\\\SODA-for-COVID-19-Research\\\\tailwind.config.js', ACCESS_TOKEN)\n",
    "# response"
   ]
  },
  {
   "cell_type": "code",
   "execution_count": 5,
   "id": "d5967433-9a7e-4bfa-a675-37c0dd5ac403",
   "metadata": {},
   "outputs": [],
   "source": [
    "def addMetadataToZenodoDeposition(deposition_id, metadata, access_token):\n",
    "    try:\n",
    "        headers = {\"Content-Type\": \"application/json\"}\n",
    "        params = {\"access_token\": access_token}\n",
    "        r = requests.put(\n",
    "            SERVER_URL + \"deposit/depositions/%s\" % deposition_id,\n",
    "            params=params,\n",
    "            data=json.dumps(metadata),\n",
    "            headers=headers,\n",
    "        )\n",
    "        return r.json()\n",
    "    except Exception as e:\n",
    "        raise e\n",
    "        \n",
    "data = {\n",
    "    'metadata': {\n",
    "        'title': 'My first upload',\n",
    "        'description': 'This is my first upload',\n",
    "        'creators': [\n",
    "            {\n",
    "                'name': 'Doe, John',\n",
    "                'affiliation': 'Zenodo'\n",
    "            }\n",
    "        ]\n",
    "    }\n",
    "}\n",
    "        \n",
    "# response = addMetadataToZenodoDeposition(zenodoObject['id'], data, ACCESS_TOKEN)\n",
    "# response"
   ]
  },
  {
   "cell_type": "code",
   "execution_count": 6,
   "id": "de95a959-e6c8-4696-a97b-d98bafc4d476",
   "metadata": {},
   "outputs": [
    {
     "name": "stdout",
     "output_type": "stream",
     "text": [
      "https://sandbox.zenodo.org/api/files/6ea4346e-bc86-4cc4-90b2-fa30d9b808d2/main.js\n"
     ]
    }
   ],
   "source": [
    "bucket_url = \"https://sandbox.zenodo.org/api/files/6ea4346e-bc86-4cc4-90b2-fa30d9b808d2\"\n",
    "# bucket_url = r.json()[\"links\"][\"bucket\"]\n",
    "deposition_id = \"935416\"\n",
    "# deposition_id = r.json()['id']\n",
    "filename = \"main.js\"\n",
    "print(\"%s/%s\" % (bucket_url, filename))"
   ]
  },
  {
   "cell_type": "code",
   "execution_count": 7,
   "id": "399dd484-81d7-4186-9444-7f9a564baa8b",
   "metadata": {},
   "outputs": [],
   "source": [
    "# bucket_url = r.json()[\"links\"][\"bucket\"]\n",
    "\n",
    "# New API\n",
    "filename = \"main.js\"\n",
    "path = filename\n",
    "\n",
    "# The target URL is a combination of the bucket link with the desired filename\n",
    "# seperated by a slash.\n",
    "\n",
    "# with open(path, \"rb\") as fp:\n",
    "#     r = requests.put(\n",
    "#         \"%s/%s\" % (bucket_url, filename),\n",
    "#         data=fp,\n",
    "#         params=params,\n",
    "#     )\n",
    "# r.json()"
   ]
  },
  {
   "cell_type": "code",
   "execution_count": 8,
   "id": "0c4db8dd-ec6c-4f98-be84-30829deb31e7",
   "metadata": {},
   "outputs": [],
   "source": [
    "data = {\n",
    "    'metadata': {\n",
    "        'title': 'My first upload',\n",
    "        'upload_type': 'poster',\n",
    "        'description': 'This is my first upload',\n",
    "        'creators': [\n",
    "            {\n",
    "                'name': 'Doe, John',\n",
    "                'affiliation': 'Zenodo'\n",
    "            }\n",
    "        ]\n",
    "    }\n",
    "}\n",
    "# r = requests.put(\n",
    "#     SERVER_URL + ('deposit/depositions/%s' % deposition_id),\n",
    "#     params={'access_token': ACCESS_TOKEN}, \n",
    "#     data=json.dumps(data),headers=headers)\n",
    "\n",
    "# r.status_code"
   ]
  },
  {
   "cell_type": "code",
   "execution_count": 13,
   "id": "338de633-8afa-4aba-8afa-6a1b78c0d2cb",
   "metadata": {},
   "outputs": [
    {
     "name": "stdout",
     "output_type": "stream",
     "text": [
      "isdir C:\\Users\\dev\\Desktop\\.ipynb_checkpoints\n",
      "isdir C:\\Users\\dev\\Desktop\\dataset\n",
      "isdir C:\\Users\\dev\\Desktop\\electron\n",
      "isdir C:\\Users\\dev\\Desktop\\electron-python\n",
      "isdir C:\\Users\\dev\\Desktop\\electron-vue3-flask\n",
      "isdir C:\\Users\\dev\\Desktop\\element-plus\n",
      "isdir C:\\Users\\dev\\Desktop\\fairdataihub-website\n",
      "isdir C:\\Users\\dev\\Desktop\\framework\n",
      "isdir C:\\Users\\dev\\Desktop\\linux\n",
      "isdir C:\\Users\\dev\\Desktop\\SODA-for-COVID-19-Research\n",
      "isdir C:\\Users\\dev\\Desktop\\SODA-for-SPARC\n",
      "isdir C:\\Users\\dev\\Desktop\\SPARClink\n",
      "isdir C:\\Users\\dev\\Desktop\\test-electron\n",
      "isdir C:\\Users\\dev\\Desktop\\vue3-marquee\n",
      "isdir C:\\Users\\dev\\Desktop\\zenodo\n"
     ]
    }
   ],
   "source": [
    "folder_path = \"C:\\\\Users\\\\dev\\\\Desktop\"\n",
    "subitems = os.listdir(folder_path)\n",
    "\n",
    "for item in subitems:\n",
    "    subitem = os.path.join(folder_path, item)\n",
    "    if os.path.isdir(subitem):\n",
    "        print(\"isdir\", subitem)\n",
    "\n",
    "        "
   ]
  },
  {
   "cell_type": "code",
   "execution_count": 19,
   "id": "52e3b57c-6d52-4b03-a9a1-7cc4235fa08b",
   "metadata": {},
   "outputs": [
    {
     "data": {
      "text/plain": [
       "'C:\\\\Users\\\\dev\\\\.sodaforcovid19research\\\\dataset\\\\dataset.zip'"
      ]
     },
     "execution_count": 19,
     "metadata": {},
     "output_type": "execute_result"
    }
   ],
   "source": [
    "import shutil\n",
    "\n",
    "def zipFolder(\n",
    "    folder_path,\n",
    "):\n",
    "    try:\n",
    "        home_path = os.path.expanduser(\"~\")\n",
    "        soda_folder_path = os.path.join(home_path, \".sodaforcovid19research\", \"dataset\")\n",
    "\n",
    "        if not os.path.exists(soda_folder_path):\n",
    "            os.makedirs(soda_folder_path)\n",
    "\n",
    "        zip_path = os.path.join(soda_folder_path, \"dataset\")\n",
    "\n",
    "        if os.path.exists(zip_path + \".zip\"):\n",
    "            os.remove(zip_path + \".zip\")\n",
    "\n",
    "        zipped_path = shutil.make_archive(zip_path, \"zip\", folder_path)\n",
    "\n",
    "        return zipped_path\n",
    "    except Exception as e:\n",
    "        raise e\n",
    "\n",
    "response = zipFolder(\"C:\\\\Users\\\\dev\\\\Desktop\\\\framework\\\\test\")\n",
    "response"
   ]
  },
  {
   "cell_type": "code",
   "execution_count": 24,
   "id": "5a3ab3c5-c8e9-492c-834b-1bf9037806f9",
   "metadata": {},
   "outputs": [],
   "source": [
    "import uuid\n",
    "\n",
    "fp = \"C:\\\\Users\\\\dev\\Desktop\\\\temp\\\\\"\n",
    "\n",
    "def generateFiles(n, folder_path):\n",
    "    for x in range(n):\n",
    "        filename = str(uuid.uuid4()) + \".soda\"\n",
    "        f = open(fp + filename , \"a\")\n",
    "        f.write(filename)\n",
    "        f.close()\n",
    "    \n",
    "generateFiles(10, fp)"
   ]
  },
  {
   "cell_type": "code",
   "execution_count": null,
   "id": "848d1e41-69fa-4b0f-8169-54efe3ee9103",
   "metadata": {},
   "outputs": [],
   "source": []
  }
 ],
 "metadata": {
  "kernelspec": {
   "display_name": "Python 3 (ipykernel)",
   "language": "python",
   "name": "python3"
  },
  "language_info": {
   "codemirror_mode": {
    "name": "ipython",
    "version": 3
   },
   "file_extension": ".py",
   "mimetype": "text/x-python",
   "name": "python",
   "nbconvert_exporter": "python",
   "pygments_lexer": "ipython3",
   "version": "3.9.0"
  }
 },
 "nbformat": 4,
 "nbformat_minor": 5
}
